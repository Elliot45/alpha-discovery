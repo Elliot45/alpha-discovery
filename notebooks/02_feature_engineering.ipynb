{
 "cells": [
  {
   "cell_type": "code",
   "execution_count": 1,
   "id": "d03f9fa5",
   "metadata": {},
   "outputs": [],
   "source": [
    "# Chemin relatif depuis notebooks/\n",
    "import sys, os\n",
    "sys.path.append(os.path.abspath(\"..\"))\n",
    "\n",
    "import pandas as pd\n",
    "import numpy as np\n",
    "from src.feature_extraction import compute_midprice, compute_order_imbalance\n",
    "\n",
    "# Charger les données prétraitées\n",
    "df = pd.read_csv(\"../data/btc_2025_1min.csv\", skiprows=1)\n",
    "df.rename(columns={\"Date\": \"timestamp\", \"Open\": \"price\"}, inplace=True)\n",
    "df[\"timestamp\"] = pd.to_datetime(df[\"timestamp\"])\n",
    "df.sort_values(\"timestamp\", inplace=True)\n",
    "\n",
    "# Simuler carnet L1\n",
    "spread = 1.0\n",
    "df[\"bid1\"] = df[\"price\"] - spread / 2\n",
    "df[\"ask1\"] = df[\"price\"] + spread / 2\n",
    "np.random.seed(42)\n",
    "df[\"bid_size1\"] = np.random.uniform(1, 5, len(df))\n",
    "df[\"ask_size1\"] = np.random.uniform(1, 5, len(df))\n",
    "\n",
    "# Features de base\n",
    "df = compute_midprice(df)\n",
    "df = compute_order_imbalance(df)\n",
    "\n",
    "# 🎯 Nouvelles features\n",
    "df[\"return_1\"] = df[\"midprice\"].pct_change()\n",
    "df[\"return_5\"] = df[\"midprice\"].pct_change(5)\n",
    "df[\"volatility_5\"] = df[\"return_1\"].rolling(5).std()\n",
    "df[\"zscore_ofi\"] = (df[\"ofi\"] - df[\"ofi\"].rolling(20).mean()) / df[\"ofi\"].rolling(20).std()\n",
    "\n",
    "# Lags\n",
    "for lag in [1, 2, 3]:\n",
    "    df[f\"ofi_lag{lag}\"] = df[\"ofi\"].shift(lag)\n",
    "\n",
    "# Nettoyage\n",
    "df.dropna(inplace=True)\n",
    "\n",
    "# Sauvegarde pour modélisation\n",
    "df.to_csv(\"../data/processed_orderbook.csv\", index=False)\n"
   ]
  }
 ],
 "metadata": {
  "kernelspec": {
   "display_name": "env",
   "language": "python",
   "name": "python3"
  },
  "language_info": {
   "codemirror_mode": {
    "name": "ipython",
    "version": 3
   },
   "file_extension": ".py",
   "mimetype": "text/x-python",
   "name": "python",
   "nbconvert_exporter": "python",
   "pygments_lexer": "ipython3",
   "version": "3.12.7"
  }
 },
 "nbformat": 4,
 "nbformat_minor": 5
}
