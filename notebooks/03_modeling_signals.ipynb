{
 "cells": [
  {
   "cell_type": "code",
   "execution_count": 6,
   "id": "70b0945d",
   "metadata": {},
   "outputs": [
    {
     "name": "stdout",
     "output_type": "stream",
     "text": [
      "              precision    recall  f1-score   support\n",
      "\n",
      "           0       0.50      0.62      0.55     32363\n",
      "           1       0.50      0.38      0.43     32864\n",
      "\n",
      "    accuracy                           0.50     65227\n",
      "   macro avg       0.50      0.50      0.49     65227\n",
      "weighted avg       0.50      0.50      0.49     65227\n",
      "\n"
     ]
    }
   ],
   "source": [
    "# Ajout du chemin vers src/\n",
    "import sys, os\n",
    "sys.path.append(os.path.abspath(\"..\"))\n",
    "\n",
    "import pandas as pd\n",
    "from sklearn.model_selection import train_test_split\n",
    "from sklearn.metrics import classification_report\n",
    "from src.signal_model import train_signal_model\n",
    "\n",
    "# Charger les données enrichies\n",
    "df = pd.read_csv(\"../data/processed_orderbook.csv\")\n",
    "\n",
    "# Label : est-ce que le midprice monte dans 5 minutes ?\n",
    "df[\"future_midprice\"] = df[\"midprice\"].shift(-5)\n",
    "df[\"label\"] = (df[\"future_midprice\"] > df[\"midprice\"]).astype(int)\n",
    "\n",
    "# Sélection des features\n",
    "features = [\n",
    "    \"ofi\", \"zscore_ofi\",\n",
    "    \"ofi_lag1\", \"ofi_lag2\", \"ofi_lag3\",\n",
    "    \"return_1\", \"return_5\", \"volatility_5\",\n",
    "    \"midprice\"\n",
    "]\n",
    "X = df[features].dropna()\n",
    "y = df[\"label\"].dropna()\n",
    "\n",
    "# Aligner les index\n",
    "X, y = X.loc[y.index], y.loc[X.index]\n",
    "\n",
    "# Split train/test\n",
    "X_train, X_test, y_train, y_test = train_test_split(X, y, shuffle=False, test_size=0.3)\n",
    "\n",
    "# Entraînement du modèle\n",
    "model = train_signal_model(X_train, y_train)\n",
    "\n",
    "# Prédictions\n",
    "y_pred = model.predict(X_test)\n",
    "\n",
    "# Résultats\n",
    "print(classification_report(y_test, y_pred))\n",
    "\n",
    "df.to_csv(\"../data/processed_orderbook_with_label.csv\", index=False)\n"
   ]
  }
 ],
 "metadata": {
  "kernelspec": {
   "display_name": "env",
   "language": "python",
   "name": "python3"
  },
  "language_info": {
   "codemirror_mode": {
    "name": "ipython",
    "version": 3
   },
   "file_extension": ".py",
   "mimetype": "text/x-python",
   "name": "python",
   "nbconvert_exporter": "python",
   "pygments_lexer": "ipython3",
   "version": "3.12.7"
  }
 },
 "nbformat": 4,
 "nbformat_minor": 5
}
